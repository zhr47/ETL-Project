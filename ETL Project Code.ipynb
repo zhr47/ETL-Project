{
 "cells": [
  {
   "cell_type": "code",
   "execution_count": 1,
   "metadata": {},
   "outputs": [],
   "source": [
    "#Dependencies and Setup\n",
    "import pandas as pd\n",
    "import numpy as np\n",
    "import os\n",
    "import warnings\n",
    "from sqlalchemy import create_engine\n",
    "warnings.filterwarnings('ignore')"
   ]
  },
  {
   "cell_type": "code",
   "execution_count": 2,
   "metadata": {},
   "outputs": [],
   "source": [
    "#Load CSV\n",
    "IRS_data = os.path.join('resources', 'IRS_Data_2015_clean.csv')\n",
    "IRS_data = pd.read_csv(IRS_data)\n",
    "\n",
    "police_data = os.path.join('resources', 'police_data.csv')\n",
    "police_data = pd.read_csv(police_data)"
   ]
  },
  {
   "cell_type": "code",
   "execution_count": 3,
   "metadata": {},
   "outputs": [],
   "source": [
    "#Police Data clean up"
   ]
  },
  {
   "cell_type": "code",
   "execution_count": 4,
   "metadata": {},
   "outputs": [],
   "source": [
    "police_data[\"ReportedDate\"] = pd.to_datetime(police_data[\"ReportedDate\"]).dt.date"
   ]
  },
  {
   "cell_type": "code",
   "execution_count": 5,
   "metadata": {},
   "outputs": [],
   "source": [
    "police_data[\"ReportedDate\"] = pd.to_datetime(police_data[\"ReportedDate\"])"
   ]
  },
  {
   "cell_type": "code",
   "execution_count": 6,
   "metadata": {},
   "outputs": [],
   "source": [
    "police_data.drop([\"FID\", \n",
    "           \"ControlNbr\",\n",
    "           \"CCN\", \n",
    "           \"BeginDate\",\n",
    "           \"Time\", \n",
    "           \"UCRCode\", \n",
    "           \"EnteredDate\", \n",
    "           \"GBSID\", \n",
    "           \"X\",\n",
    "           \"Y\",\n",
    "           \"Lat\",\n",
    "           \"Long\",\n",
    "           \"LastChanged\", \n",
    "           \"LastUpdateDate\"], axis=1, inplace=True)\n",
    "\n",
    "police_data.drop(\"Unnamed: 0\", axis=1, inplace=True)\n",
    "\n",
    "police_data.rename(columns={\"ReportedDate\": \"incidentdate\", \n",
    "                     \"PublicAddress\":\"publicaddress\",\n",
    "                     \"Precinct\":\"precinct\",\n",
    "                     \"Offense\":\"offense\",\n",
    "                     \"Description\":\"description\",\n",
    "                     \"Neighborhood\":\"neighborhood\",\n",
    "                     \"Zip Code\":\"zipcode\"}, inplace=True)"
   ]
  },
  {
   "cell_type": "code",
   "execution_count": 7,
   "metadata": {},
   "outputs": [],
   "source": [
    "police_data.to_csv(\"cleaned_police_data.csv\", index=False)"
   ]
  },
  {
   "cell_type": "code",
   "execution_count": null,
   "metadata": {},
   "outputs": [],
   "source": []
  },
  {
   "cell_type": "code",
   "execution_count": 8,
   "metadata": {},
   "outputs": [],
   "source": [
    "#IRS data clean up"
   ]
  },
  {
   "cell_type": "code",
   "execution_count": 9,
   "metadata": {},
   "outputs": [],
   "source": [
    "IRS_data = IRS_data.dropna()"
   ]
  },
  {
   "cell_type": "code",
   "execution_count": 10,
   "metadata": {},
   "outputs": [],
   "source": [
    "IRS_data_fliterd = IRS_data.drop_duplicates('zipcode')"
   ]
  },
  {
   "cell_type": "code",
   "execution_count": 11,
   "metadata": {},
   "outputs": [],
   "source": [
    "IRS_data_fliterd.replace(',','', regex=True, inplace=True)"
   ]
  },
  {
   "cell_type": "code",
   "execution_count": 12,
   "metadata": {},
   "outputs": [],
   "source": [
    "#Postgres business"
   ]
  },
  {
   "cell_type": "code",
   "execution_count": 13,
   "metadata": {},
   "outputs": [
    {
     "name": "stdout",
     "output_type": "stream",
     "text": [
      "What is your PGAmin user name? The default user name is postgres.\n"
     ]
    }
   ],
   "source": [
    "username = input('What is your PGAmin user name? The default user name is postgres.')"
   ]
  },
  {
   "cell_type": "code",
   "execution_count": 14,
   "metadata": {},
   "outputs": [],
   "source": [
    "if username == \"\":\n",
    "     username = \"postgres\""
   ]
  },
  {
   "cell_type": "code",
   "execution_count": 15,
   "metadata": {},
   "outputs": [
    {
     "name": "stdout",
     "output_type": "stream",
     "text": [
      "what is your PGAdmin password?1234\n"
     ]
    }
   ],
   "source": [
    "password = input('what is your PGAdmin password?')"
   ]
  },
  {
   "cell_type": "code",
   "execution_count": 16,
   "metadata": {},
   "outputs": [],
   "source": [
    "#Input PGAdmin user name and password below\n",
    "rds_connection_string = f\"{username}:{password}@localhost:5432/ETL\"\n",
    "#rds_connection_string =\"postgres:1234@localhost:5432/ETL\"\n",
    "engine = create_engine(f'postgresql://{rds_connection_string}')"
   ]
  },
  {
   "cell_type": "code",
   "execution_count": null,
   "metadata": {},
   "outputs": [],
   "source": [
    "engine.table_names()"
   ]
  },
  {
   "cell_type": "code",
   "execution_count": null,
   "metadata": {},
   "outputs": [],
   "source": [
    "police_data.to_sql(name='offenses', con=engine, if_exists='append', index=False)"
   ]
  },
  {
   "cell_type": "code",
   "execution_count": null,
   "metadata": {},
   "outputs": [],
   "source": [
    "IRS_data_fliterd.to_sql(name='irsdata', con=engine, if_exists='append', index=False)"
   ]
  },
  {
   "cell_type": "code",
   "execution_count": null,
   "metadata": {},
   "outputs": [],
   "source": [
    "pd.read_sql_query('select * from offenses', con=engine).head()"
   ]
  },
  {
   "cell_type": "code",
   "execution_count": null,
   "metadata": {},
   "outputs": [],
   "source": [
    "pd.read_sql_query('select * from irsdata', con=engine).head()"
   ]
  },
  {
   "cell_type": "code",
   "execution_count": null,
   "metadata": {},
   "outputs": [],
   "source": []
  }
 ],
 "metadata": {
  "kernelspec": {
   "display_name": "Python 3",
   "language": "python",
   "name": "python3"
  },
  "language_info": {
   "codemirror_mode": {
    "name": "ipython",
    "version": 3
   },
   "file_extension": ".py",
   "mimetype": "text/x-python",
   "name": "python",
   "nbconvert_exporter": "python",
   "pygments_lexer": "ipython3",
   "version": "3.6.10"
  }
 },
 "nbformat": 4,
 "nbformat_minor": 4
}
